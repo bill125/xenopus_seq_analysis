{
 "cells": [
  {
   "cell_type": "code",
   "execution_count": 3,
   "metadata": {},
   "outputs": [],
   "source": [
    "import numpy as np\n",
    "import pandas as pd"
   ]
  },
  {
   "cell_type": "code",
   "execution_count": 4,
   "metadata": {},
   "outputs": [],
   "source": [
    "organs = np.array([\"bra\", \"hea\", \"int\", \"liv\", \"lun\", \"mus\", \"ski\"])\n",
    "\n",
    "fpkm_data = pd.read_csv(\"data/fpkm_all_anno.xls\", sep='\\t', header=0, low_memory=False)\n",
    "gene_lists = {}\n",
    "for organ in organs:\n",
    "    file_name = \"data/deg_id/{}_union_deg_list.csv\".format(organ)\n",
    "    gene_lists[organ] = pd.read_csv(file_name, sep=',', header=0)\n",
    "fpkm_data = fpkm_data.set_index(\"name\")"
   ]
  },
  {
   "cell_type": "code",
   "execution_count": 6,
   "metadata": {},
   "outputs": [],
   "source": [
    "import itertools\n",
    "\n",
    "def extract_df(fpkm_data, x, gene_set, filter=False):\n",
    "    sample_name_list = []\n",
    "    for sample_name in fpkm_data.columns:\n",
    "        if (x in sample_name):\n",
    "            sample_name_list.append(sample_name)\n",
    "    if filter:\n",
    "        # print(fpkm_data[sample_name_list].loc[gene_set])\n",
    "        # print(np.min(fpkm_data[sample_name_list].loc[gene_set], axis=1) > 1)\n",
    "        gene_set = gene_set[np.min(fpkm_data[sample_name_list].loc[gene_set], axis=1) > 5]\n",
    "        # gene_set = gene_set[]\n",
    "\n",
    "    sample_name_list.append(\"GeneName\")\n",
    "    return fpkm_data[sample_name_list].loc[gene_set].set_index('GeneName'), gene_set\n",
    "\n",
    "for x, y in itertools.permutations(organs, 2):\n",
    "    gene_set = np.union1d(np.array(gene_lists[x][\"{}_degs_uni\".format(x)]), np.array(gene_lists[y][\"{}_degs_uni\".format(y)]))\n",
    "    # build x\n",
    "    # print(x, y)\n",
    "    df_x, gene_set = extract_df(fpkm_data, x, gene_set, filter=True) \n",
    "    df_y, gene_set = extract_df(fpkm_data, y, gene_set)\n",
    "    df_x.T.to_csv(\"data/input/{}_vs_{}-{}.csv\".format(x, y, x), index_label=False, sep=\"\\t\")\n",
    "    df_y.T.to_csv(\"data/input/{}_vs_{}-{}.csv\".format(x, y, y), index_label=False, sep=\"\\t\")"
   ]
  },
  {
   "cell_type": "code",
   "execution_count": 26,
   "metadata": {},
   "outputs": [],
   "source": [
    "sample_list = {}\n",
    "for x in organs:\n",
    "    now_list = []\n",
    "    for sample_name in fpkm_data.columns:\n",
    "        if (x in sample_name):\n",
    "            now_list.append(sample_name)\n",
    "    sample_list[x] = now_list\n",
    "    # fpkm_data[x] = fpkm_data[now_list]\n",
    "    # print(fpkm_data[now_list].astype(\"float64\", errors='ignore').iloc[5:])\n",
    "    fpkm_data[x] = fpkm_data[now_list].iloc[5:].astype(\"float64\", errors='ignore').mean(axis=1)\n",
    "    # print(fpkm_data[x])"
   ]
  },
  {
   "cell_type": "code",
   "execution_count": 31,
   "metadata": {},
   "outputs": [
    {
     "name": "stderr",
     "output_type": "stream",
     "text": [
      "/var/folders/pt/9f05dd_s4_lfhz62v29wfmtc0000gn/T/ipykernel_26389/3692384984.py:10: FutureWarning: As the xlwt package is no longer maintained, the xlwt engine will be removed in a future version of pandas. This is the only engine in pandas that supports writing in the xls format. Install openpyxl and write to an xlsx file instead. You can set the option io.excel.xls.writer to 'xlwt' to silence this warning. While this option is deprecated and will also raise a warning, it can be globally set and the warning suppressed.\n",
      "  result[col_list].to_excel(\"result/filtered_genes/{}_x_{}_filtered_genes.xls\".format(x, y))\n",
      "/var/folders/pt/9f05dd_s4_lfhz62v29wfmtc0000gn/T/ipykernel_26389/3692384984.py:10: FutureWarning: As the xlwt package is no longer maintained, the xlwt engine will be removed in a future version of pandas. This is the only engine in pandas that supports writing in the xls format. Install openpyxl and write to an xlsx file instead. You can set the option io.excel.xls.writer to 'xlwt' to silence this warning. While this option is deprecated and will also raise a warning, it can be globally set and the warning suppressed.\n",
      "  result[col_list].to_excel(\"result/filtered_genes/{}_x_{}_filtered_genes.xls\".format(x, y))\n",
      "/var/folders/pt/9f05dd_s4_lfhz62v29wfmtc0000gn/T/ipykernel_26389/3692384984.py:10: FutureWarning: As the xlwt package is no longer maintained, the xlwt engine will be removed in a future version of pandas. This is the only engine in pandas that supports writing in the xls format. Install openpyxl and write to an xlsx file instead. You can set the option io.excel.xls.writer to 'xlwt' to silence this warning. While this option is deprecated and will also raise a warning, it can be globally set and the warning suppressed.\n",
      "  result[col_list].to_excel(\"result/filtered_genes/{}_x_{}_filtered_genes.xls\".format(x, y))\n",
      "/var/folders/pt/9f05dd_s4_lfhz62v29wfmtc0000gn/T/ipykernel_26389/3692384984.py:10: FutureWarning: As the xlwt package is no longer maintained, the xlwt engine will be removed in a future version of pandas. This is the only engine in pandas that supports writing in the xls format. Install openpyxl and write to an xlsx file instead. You can set the option io.excel.xls.writer to 'xlwt' to silence this warning. While this option is deprecated and will also raise a warning, it can be globally set and the warning suppressed.\n",
      "  result[col_list].to_excel(\"result/filtered_genes/{}_x_{}_filtered_genes.xls\".format(x, y))\n",
      "/var/folders/pt/9f05dd_s4_lfhz62v29wfmtc0000gn/T/ipykernel_26389/3692384984.py:10: FutureWarning: As the xlwt package is no longer maintained, the xlwt engine will be removed in a future version of pandas. This is the only engine in pandas that supports writing in the xls format. Install openpyxl and write to an xlsx file instead. You can set the option io.excel.xls.writer to 'xlwt' to silence this warning. While this option is deprecated and will also raise a warning, it can be globally set and the warning suppressed.\n",
      "  result[col_list].to_excel(\"result/filtered_genes/{}_x_{}_filtered_genes.xls\".format(x, y))\n",
      "/var/folders/pt/9f05dd_s4_lfhz62v29wfmtc0000gn/T/ipykernel_26389/3692384984.py:10: FutureWarning: As the xlwt package is no longer maintained, the xlwt engine will be removed in a future version of pandas. This is the only engine in pandas that supports writing in the xls format. Install openpyxl and write to an xlsx file instead. You can set the option io.excel.xls.writer to 'xlwt' to silence this warning. While this option is deprecated and will also raise a warning, it can be globally set and the warning suppressed.\n",
      "  result[col_list].to_excel(\"result/filtered_genes/{}_x_{}_filtered_genes.xls\".format(x, y))\n",
      "/var/folders/pt/9f05dd_s4_lfhz62v29wfmtc0000gn/T/ipykernel_26389/3692384984.py:10: FutureWarning: As the xlwt package is no longer maintained, the xlwt engine will be removed in a future version of pandas. This is the only engine in pandas that supports writing in the xls format. Install openpyxl and write to an xlsx file instead. You can set the option io.excel.xls.writer to 'xlwt' to silence this warning. While this option is deprecated and will also raise a warning, it can be globally set and the warning suppressed.\n",
      "  result[col_list].to_excel(\"result/filtered_genes/{}_x_{}_filtered_genes.xls\".format(x, y))\n",
      "/var/folders/pt/9f05dd_s4_lfhz62v29wfmtc0000gn/T/ipykernel_26389/3692384984.py:10: FutureWarning: As the xlwt package is no longer maintained, the xlwt engine will be removed in a future version of pandas. This is the only engine in pandas that supports writing in the xls format. Install openpyxl and write to an xlsx file instead. You can set the option io.excel.xls.writer to 'xlwt' to silence this warning. While this option is deprecated and will also raise a warning, it can be globally set and the warning suppressed.\n",
      "  result[col_list].to_excel(\"result/filtered_genes/{}_x_{}_filtered_genes.xls\".format(x, y))\n",
      "/var/folders/pt/9f05dd_s4_lfhz62v29wfmtc0000gn/T/ipykernel_26389/3692384984.py:10: FutureWarning: As the xlwt package is no longer maintained, the xlwt engine will be removed in a future version of pandas. This is the only engine in pandas that supports writing in the xls format. Install openpyxl and write to an xlsx file instead. You can set the option io.excel.xls.writer to 'xlwt' to silence this warning. While this option is deprecated and will also raise a warning, it can be globally set and the warning suppressed.\n",
      "  result[col_list].to_excel(\"result/filtered_genes/{}_x_{}_filtered_genes.xls\".format(x, y))\n",
      "/var/folders/pt/9f05dd_s4_lfhz62v29wfmtc0000gn/T/ipykernel_26389/3692384984.py:10: FutureWarning: As the xlwt package is no longer maintained, the xlwt engine will be removed in a future version of pandas. This is the only engine in pandas that supports writing in the xls format. Install openpyxl and write to an xlsx file instead. You can set the option io.excel.xls.writer to 'xlwt' to silence this warning. While this option is deprecated and will also raise a warning, it can be globally set and the warning suppressed.\n",
      "  result[col_list].to_excel(\"result/filtered_genes/{}_x_{}_filtered_genes.xls\".format(x, y))\n",
      "/var/folders/pt/9f05dd_s4_lfhz62v29wfmtc0000gn/T/ipykernel_26389/3692384984.py:10: FutureWarning: As the xlwt package is no longer maintained, the xlwt engine will be removed in a future version of pandas. This is the only engine in pandas that supports writing in the xls format. Install openpyxl and write to an xlsx file instead. You can set the option io.excel.xls.writer to 'xlwt' to silence this warning. While this option is deprecated and will also raise a warning, it can be globally set and the warning suppressed.\n",
      "  result[col_list].to_excel(\"result/filtered_genes/{}_x_{}_filtered_genes.xls\".format(x, y))\n",
      "/var/folders/pt/9f05dd_s4_lfhz62v29wfmtc0000gn/T/ipykernel_26389/3692384984.py:10: FutureWarning: As the xlwt package is no longer maintained, the xlwt engine will be removed in a future version of pandas. This is the only engine in pandas that supports writing in the xls format. Install openpyxl and write to an xlsx file instead. You can set the option io.excel.xls.writer to 'xlwt' to silence this warning. While this option is deprecated and will also raise a warning, it can be globally set and the warning suppressed.\n",
      "  result[col_list].to_excel(\"result/filtered_genes/{}_x_{}_filtered_genes.xls\".format(x, y))\n",
      "/var/folders/pt/9f05dd_s4_lfhz62v29wfmtc0000gn/T/ipykernel_26389/3692384984.py:10: FutureWarning: As the xlwt package is no longer maintained, the xlwt engine will be removed in a future version of pandas. This is the only engine in pandas that supports writing in the xls format. Install openpyxl and write to an xlsx file instead. You can set the option io.excel.xls.writer to 'xlwt' to silence this warning. While this option is deprecated and will also raise a warning, it can be globally set and the warning suppressed.\n",
      "  result[col_list].to_excel(\"result/filtered_genes/{}_x_{}_filtered_genes.xls\".format(x, y))\n",
      "/var/folders/pt/9f05dd_s4_lfhz62v29wfmtc0000gn/T/ipykernel_26389/3692384984.py:10: FutureWarning: As the xlwt package is no longer maintained, the xlwt engine will be removed in a future version of pandas. This is the only engine in pandas that supports writing in the xls format. Install openpyxl and write to an xlsx file instead. You can set the option io.excel.xls.writer to 'xlwt' to silence this warning. While this option is deprecated and will also raise a warning, it can be globally set and the warning suppressed.\n",
      "  result[col_list].to_excel(\"result/filtered_genes/{}_x_{}_filtered_genes.xls\".format(x, y))\n",
      "/var/folders/pt/9f05dd_s4_lfhz62v29wfmtc0000gn/T/ipykernel_26389/3692384984.py:10: FutureWarning: As the xlwt package is no longer maintained, the xlwt engine will be removed in a future version of pandas. This is the only engine in pandas that supports writing in the xls format. Install openpyxl and write to an xlsx file instead. You can set the option io.excel.xls.writer to 'xlwt' to silence this warning. While this option is deprecated and will also raise a warning, it can be globally set and the warning suppressed.\n",
      "  result[col_list].to_excel(\"result/filtered_genes/{}_x_{}_filtered_genes.xls\".format(x, y))\n",
      "/var/folders/pt/9f05dd_s4_lfhz62v29wfmtc0000gn/T/ipykernel_26389/3692384984.py:10: FutureWarning: As the xlwt package is no longer maintained, the xlwt engine will be removed in a future version of pandas. This is the only engine in pandas that supports writing in the xls format. Install openpyxl and write to an xlsx file instead. You can set the option io.excel.xls.writer to 'xlwt' to silence this warning. While this option is deprecated and will also raise a warning, it can be globally set and the warning suppressed.\n",
      "  result[col_list].to_excel(\"result/filtered_genes/{}_x_{}_filtered_genes.xls\".format(x, y))\n",
      "/var/folders/pt/9f05dd_s4_lfhz62v29wfmtc0000gn/T/ipykernel_26389/3692384984.py:10: FutureWarning: As the xlwt package is no longer maintained, the xlwt engine will be removed in a future version of pandas. This is the only engine in pandas that supports writing in the xls format. Install openpyxl and write to an xlsx file instead. You can set the option io.excel.xls.writer to 'xlwt' to silence this warning. While this option is deprecated and will also raise a warning, it can be globally set and the warning suppressed.\n",
      "  result[col_list].to_excel(\"result/filtered_genes/{}_x_{}_filtered_genes.xls\".format(x, y))\n",
      "/var/folders/pt/9f05dd_s4_lfhz62v29wfmtc0000gn/T/ipykernel_26389/3692384984.py:10: FutureWarning: As the xlwt package is no longer maintained, the xlwt engine will be removed in a future version of pandas. This is the only engine in pandas that supports writing in the xls format. Install openpyxl and write to an xlsx file instead. You can set the option io.excel.xls.writer to 'xlwt' to silence this warning. While this option is deprecated and will also raise a warning, it can be globally set and the warning suppressed.\n",
      "  result[col_list].to_excel(\"result/filtered_genes/{}_x_{}_filtered_genes.xls\".format(x, y))\n",
      "/var/folders/pt/9f05dd_s4_lfhz62v29wfmtc0000gn/T/ipykernel_26389/3692384984.py:10: FutureWarning: As the xlwt package is no longer maintained, the xlwt engine will be removed in a future version of pandas. This is the only engine in pandas that supports writing in the xls format. Install openpyxl and write to an xlsx file instead. You can set the option io.excel.xls.writer to 'xlwt' to silence this warning. While this option is deprecated and will also raise a warning, it can be globally set and the warning suppressed.\n",
      "  result[col_list].to_excel(\"result/filtered_genes/{}_x_{}_filtered_genes.xls\".format(x, y))\n",
      "/var/folders/pt/9f05dd_s4_lfhz62v29wfmtc0000gn/T/ipykernel_26389/3692384984.py:10: FutureWarning: As the xlwt package is no longer maintained, the xlwt engine will be removed in a future version of pandas. This is the only engine in pandas that supports writing in the xls format. Install openpyxl and write to an xlsx file instead. You can set the option io.excel.xls.writer to 'xlwt' to silence this warning. While this option is deprecated and will also raise a warning, it can be globally set and the warning suppressed.\n",
      "  result[col_list].to_excel(\"result/filtered_genes/{}_x_{}_filtered_genes.xls\".format(x, y))\n",
      "/var/folders/pt/9f05dd_s4_lfhz62v29wfmtc0000gn/T/ipykernel_26389/3692384984.py:10: FutureWarning: As the xlwt package is no longer maintained, the xlwt engine will be removed in a future version of pandas. This is the only engine in pandas that supports writing in the xls format. Install openpyxl and write to an xlsx file instead. You can set the option io.excel.xls.writer to 'xlwt' to silence this warning. While this option is deprecated and will also raise a warning, it can be globally set and the warning suppressed.\n",
      "  result[col_list].to_excel(\"result/filtered_genes/{}_x_{}_filtered_genes.xls\".format(x, y))\n",
      "/var/folders/pt/9f05dd_s4_lfhz62v29wfmtc0000gn/T/ipykernel_26389/3692384984.py:10: FutureWarning: As the xlwt package is no longer maintained, the xlwt engine will be removed in a future version of pandas. This is the only engine in pandas that supports writing in the xls format. Install openpyxl and write to an xlsx file instead. You can set the option io.excel.xls.writer to 'xlwt' to silence this warning. While this option is deprecated and will also raise a warning, it can be globally set and the warning suppressed.\n",
      "  result[col_list].to_excel(\"result/filtered_genes/{}_x_{}_filtered_genes.xls\".format(x, y))\n",
      "/var/folders/pt/9f05dd_s4_lfhz62v29wfmtc0000gn/T/ipykernel_26389/3692384984.py:10: FutureWarning: As the xlwt package is no longer maintained, the xlwt engine will be removed in a future version of pandas. This is the only engine in pandas that supports writing in the xls format. Install openpyxl and write to an xlsx file instead. You can set the option io.excel.xls.writer to 'xlwt' to silence this warning. While this option is deprecated and will also raise a warning, it can be globally set and the warning suppressed.\n",
      "  result[col_list].to_excel(\"result/filtered_genes/{}_x_{}_filtered_genes.xls\".format(x, y))\n",
      "/var/folders/pt/9f05dd_s4_lfhz62v29wfmtc0000gn/T/ipykernel_26389/3692384984.py:10: FutureWarning: As the xlwt package is no longer maintained, the xlwt engine will be removed in a future version of pandas. This is the only engine in pandas that supports writing in the xls format. Install openpyxl and write to an xlsx file instead. You can set the option io.excel.xls.writer to 'xlwt' to silence this warning. While this option is deprecated and will also raise a warning, it can be globally set and the warning suppressed.\n",
      "  result[col_list].to_excel(\"result/filtered_genes/{}_x_{}_filtered_genes.xls\".format(x, y))\n",
      "/var/folders/pt/9f05dd_s4_lfhz62v29wfmtc0000gn/T/ipykernel_26389/3692384984.py:10: FutureWarning: As the xlwt package is no longer maintained, the xlwt engine will be removed in a future version of pandas. This is the only engine in pandas that supports writing in the xls format. Install openpyxl and write to an xlsx file instead. You can set the option io.excel.xls.writer to 'xlwt' to silence this warning. While this option is deprecated and will also raise a warning, it can be globally set and the warning suppressed.\n",
      "  result[col_list].to_excel(\"result/filtered_genes/{}_x_{}_filtered_genes.xls\".format(x, y))\n",
      "/var/folders/pt/9f05dd_s4_lfhz62v29wfmtc0000gn/T/ipykernel_26389/3692384984.py:10: FutureWarning: As the xlwt package is no longer maintained, the xlwt engine will be removed in a future version of pandas. This is the only engine in pandas that supports writing in the xls format. Install openpyxl and write to an xlsx file instead. You can set the option io.excel.xls.writer to 'xlwt' to silence this warning. While this option is deprecated and will also raise a warning, it can be globally set and the warning suppressed.\n",
      "  result[col_list].to_excel(\"result/filtered_genes/{}_x_{}_filtered_genes.xls\".format(x, y))\n",
      "/var/folders/pt/9f05dd_s4_lfhz62v29wfmtc0000gn/T/ipykernel_26389/3692384984.py:10: FutureWarning: As the xlwt package is no longer maintained, the xlwt engine will be removed in a future version of pandas. This is the only engine in pandas that supports writing in the xls format. Install openpyxl and write to an xlsx file instead. You can set the option io.excel.xls.writer to 'xlwt' to silence this warning. While this option is deprecated and will also raise a warning, it can be globally set and the warning suppressed.\n",
      "  result[col_list].to_excel(\"result/filtered_genes/{}_x_{}_filtered_genes.xls\".format(x, y))\n",
      "/var/folders/pt/9f05dd_s4_lfhz62v29wfmtc0000gn/T/ipykernel_26389/3692384984.py:10: FutureWarning: As the xlwt package is no longer maintained, the xlwt engine will be removed in a future version of pandas. This is the only engine in pandas that supports writing in the xls format. Install openpyxl and write to an xlsx file instead. You can set the option io.excel.xls.writer to 'xlwt' to silence this warning. While this option is deprecated and will also raise a warning, it can be globally set and the warning suppressed.\n",
      "  result[col_list].to_excel(\"result/filtered_genes/{}_x_{}_filtered_genes.xls\".format(x, y))\n",
      "/var/folders/pt/9f05dd_s4_lfhz62v29wfmtc0000gn/T/ipykernel_26389/3692384984.py:10: FutureWarning: As the xlwt package is no longer maintained, the xlwt engine will be removed in a future version of pandas. This is the only engine in pandas that supports writing in the xls format. Install openpyxl and write to an xlsx file instead. You can set the option io.excel.xls.writer to 'xlwt' to silence this warning. While this option is deprecated and will also raise a warning, it can be globally set and the warning suppressed.\n",
      "  result[col_list].to_excel(\"result/filtered_genes/{}_x_{}_filtered_genes.xls\".format(x, y))\n",
      "/var/folders/pt/9f05dd_s4_lfhz62v29wfmtc0000gn/T/ipykernel_26389/3692384984.py:10: FutureWarning: As the xlwt package is no longer maintained, the xlwt engine will be removed in a future version of pandas. This is the only engine in pandas that supports writing in the xls format. Install openpyxl and write to an xlsx file instead. You can set the option io.excel.xls.writer to 'xlwt' to silence this warning. While this option is deprecated and will also raise a warning, it can be globally set and the warning suppressed.\n",
      "  result[col_list].to_excel(\"result/filtered_genes/{}_x_{}_filtered_genes.xls\".format(x, y))\n",
      "/var/folders/pt/9f05dd_s4_lfhz62v29wfmtc0000gn/T/ipykernel_26389/3692384984.py:10: FutureWarning: As the xlwt package is no longer maintained, the xlwt engine will be removed in a future version of pandas. This is the only engine in pandas that supports writing in the xls format. Install openpyxl and write to an xlsx file instead. You can set the option io.excel.xls.writer to 'xlwt' to silence this warning. While this option is deprecated and will also raise a warning, it can be globally set and the warning suppressed.\n",
      "  result[col_list].to_excel(\"result/filtered_genes/{}_x_{}_filtered_genes.xls\".format(x, y))\n",
      "/var/folders/pt/9f05dd_s4_lfhz62v29wfmtc0000gn/T/ipykernel_26389/3692384984.py:10: FutureWarning: As the xlwt package is no longer maintained, the xlwt engine will be removed in a future version of pandas. This is the only engine in pandas that supports writing in the xls format. Install openpyxl and write to an xlsx file instead. You can set the option io.excel.xls.writer to 'xlwt' to silence this warning. While this option is deprecated and will also raise a warning, it can be globally set and the warning suppressed.\n",
      "  result[col_list].to_excel(\"result/filtered_genes/{}_x_{}_filtered_genes.xls\".format(x, y))\n",
      "/var/folders/pt/9f05dd_s4_lfhz62v29wfmtc0000gn/T/ipykernel_26389/3692384984.py:10: FutureWarning: As the xlwt package is no longer maintained, the xlwt engine will be removed in a future version of pandas. This is the only engine in pandas that supports writing in the xls format. Install openpyxl and write to an xlsx file instead. You can set the option io.excel.xls.writer to 'xlwt' to silence this warning. While this option is deprecated and will also raise a warning, it can be globally set and the warning suppressed.\n",
      "  result[col_list].to_excel(\"result/filtered_genes/{}_x_{}_filtered_genes.xls\".format(x, y))\n",
      "/var/folders/pt/9f05dd_s4_lfhz62v29wfmtc0000gn/T/ipykernel_26389/3692384984.py:10: FutureWarning: As the xlwt package is no longer maintained, the xlwt engine will be removed in a future version of pandas. This is the only engine in pandas that supports writing in the xls format. Install openpyxl and write to an xlsx file instead. You can set the option io.excel.xls.writer to 'xlwt' to silence this warning. While this option is deprecated and will also raise a warning, it can be globally set and the warning suppressed.\n",
      "  result[col_list].to_excel(\"result/filtered_genes/{}_x_{}_filtered_genes.xls\".format(x, y))\n",
      "/var/folders/pt/9f05dd_s4_lfhz62v29wfmtc0000gn/T/ipykernel_26389/3692384984.py:10: FutureWarning: As the xlwt package is no longer maintained, the xlwt engine will be removed in a future version of pandas. This is the only engine in pandas that supports writing in the xls format. Install openpyxl and write to an xlsx file instead. You can set the option io.excel.xls.writer to 'xlwt' to silence this warning. While this option is deprecated and will also raise a warning, it can be globally set and the warning suppressed.\n",
      "  result[col_list].to_excel(\"result/filtered_genes/{}_x_{}_filtered_genes.xls\".format(x, y))\n",
      "/var/folders/pt/9f05dd_s4_lfhz62v29wfmtc0000gn/T/ipykernel_26389/3692384984.py:10: FutureWarning: As the xlwt package is no longer maintained, the xlwt engine will be removed in a future version of pandas. This is the only engine in pandas that supports writing in the xls format. Install openpyxl and write to an xlsx file instead. You can set the option io.excel.xls.writer to 'xlwt' to silence this warning. While this option is deprecated and will also raise a warning, it can be globally set and the warning suppressed.\n",
      "  result[col_list].to_excel(\"result/filtered_genes/{}_x_{}_filtered_genes.xls\".format(x, y))\n",
      "/var/folders/pt/9f05dd_s4_lfhz62v29wfmtc0000gn/T/ipykernel_26389/3692384984.py:10: FutureWarning: As the xlwt package is no longer maintained, the xlwt engine will be removed in a future version of pandas. This is the only engine in pandas that supports writing in the xls format. Install openpyxl and write to an xlsx file instead. You can set the option io.excel.xls.writer to 'xlwt' to silence this warning. While this option is deprecated and will also raise a warning, it can be globally set and the warning suppressed.\n",
      "  result[col_list].to_excel(\"result/filtered_genes/{}_x_{}_filtered_genes.xls\".format(x, y))\n",
      "/var/folders/pt/9f05dd_s4_lfhz62v29wfmtc0000gn/T/ipykernel_26389/3692384984.py:10: FutureWarning: As the xlwt package is no longer maintained, the xlwt engine will be removed in a future version of pandas. This is the only engine in pandas that supports writing in the xls format. Install openpyxl and write to an xlsx file instead. You can set the option io.excel.xls.writer to 'xlwt' to silence this warning. While this option is deprecated and will also raise a warning, it can be globally set and the warning suppressed.\n",
      "  result[col_list].to_excel(\"result/filtered_genes/{}_x_{}_filtered_genes.xls\".format(x, y))\n",
      "/var/folders/pt/9f05dd_s4_lfhz62v29wfmtc0000gn/T/ipykernel_26389/3692384984.py:10: FutureWarning: As the xlwt package is no longer maintained, the xlwt engine will be removed in a future version of pandas. This is the only engine in pandas that supports writing in the xls format. Install openpyxl and write to an xlsx file instead. You can set the option io.excel.xls.writer to 'xlwt' to silence this warning. While this option is deprecated and will also raise a warning, it can be globally set and the warning suppressed.\n",
      "  result[col_list].to_excel(\"result/filtered_genes/{}_x_{}_filtered_genes.xls\".format(x, y))\n",
      "/var/folders/pt/9f05dd_s4_lfhz62v29wfmtc0000gn/T/ipykernel_26389/3692384984.py:10: FutureWarning: As the xlwt package is no longer maintained, the xlwt engine will be removed in a future version of pandas. This is the only engine in pandas that supports writing in the xls format. Install openpyxl and write to an xlsx file instead. You can set the option io.excel.xls.writer to 'xlwt' to silence this warning. While this option is deprecated and will also raise a warning, it can be globally set and the warning suppressed.\n",
      "  result[col_list].to_excel(\"result/filtered_genes/{}_x_{}_filtered_genes.xls\".format(x, y))\n",
      "/var/folders/pt/9f05dd_s4_lfhz62v29wfmtc0000gn/T/ipykernel_26389/3692384984.py:10: FutureWarning: As the xlwt package is no longer maintained, the xlwt engine will be removed in a future version of pandas. This is the only engine in pandas that supports writing in the xls format. Install openpyxl and write to an xlsx file instead. You can set the option io.excel.xls.writer to 'xlwt' to silence this warning. While this option is deprecated and will also raise a warning, it can be globally set and the warning suppressed.\n",
      "  result[col_list].to_excel(\"result/filtered_genes/{}_x_{}_filtered_genes.xls\".format(x, y))\n",
      "/var/folders/pt/9f05dd_s4_lfhz62v29wfmtc0000gn/T/ipykernel_26389/3692384984.py:10: FutureWarning: As the xlwt package is no longer maintained, the xlwt engine will be removed in a future version of pandas. This is the only engine in pandas that supports writing in the xls format. Install openpyxl and write to an xlsx file instead. You can set the option io.excel.xls.writer to 'xlwt' to silence this warning. While this option is deprecated and will also raise a warning, it can be globally set and the warning suppressed.\n",
      "  result[col_list].to_excel(\"result/filtered_genes/{}_x_{}_filtered_genes.xls\".format(x, y))\n"
     ]
    }
   ],
   "source": [
    "for x, y in itertools.permutations(organs, 2):\n",
    "    candidate_gene = pd.read_csv(\"result/{} X {} ranked by sig score\".format(x, y), sep=\"\\t\").set_index(\"Gene_symbol\")\n",
    "    \n",
    "    result = pd.merge(candidate_gene, fpkm_data, how=\"left\", left_index=True, right_on=\"GeneName\").reset_index().set_index(\"GeneName\")\n",
    "    result = result.loc[result[sample_list[x]].astype('float64').mean(axis=1) == result[organs].astype(\"float64\").max(axis=1)]\n",
    "    col_list = np.concatenate((['Ssec', 'name'], result.columns[170:], sample_list[x], sample_list[y]))\n",
    "    result[col_list].to_excel(\"result/filtered_genes/{}_x_{}_filtered_genes.xls\".format(x, y))\n",
    "    \n"
   ]
  }
 ],
 "metadata": {
  "kernelspec": {
   "display_name": "Python 3.8.13 ('py38')",
   "language": "python",
   "name": "python3"
  },
  "language_info": {
   "codemirror_mode": {
    "name": "ipython",
    "version": 3
   },
   "file_extension": ".py",
   "mimetype": "text/x-python",
   "name": "python",
   "nbconvert_exporter": "python",
   "pygments_lexer": "ipython3",
   "version": "3.8.13"
  },
  "orig_nbformat": 4,
  "vscode": {
   "interpreter": {
    "hash": "3e5618a7457874320a34e06e97bdb997e623097d255aa9299231f166db5527a9"
   }
  }
 },
 "nbformat": 4,
 "nbformat_minor": 2
}
