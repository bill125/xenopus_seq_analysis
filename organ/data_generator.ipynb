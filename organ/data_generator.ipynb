{
 "cells": [
  {
   "cell_type": "code",
   "execution_count": 51,
   "metadata": {},
   "outputs": [],
   "source": [
    "import numpy as np\n",
    "import pandas as pd\n"
   ]
  },
  {
   "cell_type": "code",
   "execution_count": 65,
   "metadata": {},
   "outputs": [
    {
     "name": "stderr",
     "output_type": "stream",
     "text": [
      "/var/folders/pt/9f05dd_s4_lfhz62v29wfmtc0000gn/T/ipykernel_51401/1636768533.py:3: DtypeWarning: Columns (1,2,3,4,5,6,7,8,9,10,11,12,13,14,15,16,17,18,19,20,21,22,23,24,25,26,27,28,29,30,31,32,33,34,35,36,37,38,39,40,41,42,43,44,45,46,47,48,49,50,51,52,53,54,55,56,57,58,59,60,61,62,63,64,65,66,67,68,69,70,71,72,73,74,75,76,77,78,79,80,81,82,83,84,85,86,87,88,89,90,91,92,93,94,95,96,97,98,99,100,101,102,103,104,105,106,107,108,109,110,111,112,113,114,115,116,117,118,119,120,121,122,123,124,125,126,127,128,129,130,131,132,133,134,135,136,137,138,139,140,141,142,143,144,145,146,147,148,149,150,151,152,153,154,155,156,157,158,159,160,161,162,163,164,165,166,167,168) have mixed types. Specify dtype option on import or set low_memory=False.\n",
      "  fpkm_data = pd.read_csv(\"data/fpkm_all_anno.xls\", sep='\\t', header=0)\n"
     ]
    }
   ],
   "source": [
    "organs = np.array([\"bra\", \"hea\", \"int\", \"liv\", \"lun\", \"mus\", \"ski\"])\n",
    "\n",
    "fpkm_data = pd.read_csv(\"data/fpkm_all_anno.xls\", sep='\\t', header=0)\n",
    "gene_lists = {}\n",
    "for organ in organs:\n",
    "    file_name = \"data/deg_id/{}_union_deg_list.csv\".format(organ)\n",
    "    gene_lists[organ] = pd.read_csv(file_name, sep=',', header=0)\n",
    "fpkm_data = fpkm_data.set_index(\"name\")"
   ]
  },
  {
   "cell_type": "code",
   "execution_count": 80,
   "metadata": {},
   "outputs": [],
   "source": [
    "import itertools\n",
    "\n",
    "def extract_df(fpkm_data, x, gene_set):\n",
    "    sample_name_list = ['GeneName']\n",
    "    for sample_name in fpkm_data.columns:\n",
    "        if (x in sample_name):\n",
    "            sample_name_list.append(sample_name)\n",
    "\n",
    "    return fpkm_data[sample_name_list].loc[gene_set].set_index('GeneName')\n",
    "\n",
    "for x, y in itertools.combinations(organs, 2):\n",
    "    # print(gene_lists[x][\"{}_degs_uni\".format(x)])\n",
    "    gene_set = np.union1d(np.array(gene_lists[x][\"{}_degs_uni\".format(x)]), np.array(gene_lists[y][\"{}_degs_uni\".format(y)]))\n",
    "    # build x\n",
    "    # print(extract_df(fpkm_data, x, gene_set))\n",
    "    extract_df(fpkm_data, x, gene_set).T.to_csv(\"data/input/{}_vs_{}-{}.csv\".format(x, y, x), index_label=False, sep=\"\\t\")\n",
    "    extract_df(fpkm_data, y, gene_set).T.to_csv(\"data/input/{}_vs_{}-{}.csv\".format(x, y, y), index_label=False, sep=\"\\t\")\n",
    "    # break"
   ]
  },
  {
   "cell_type": "code",
   "execution_count": 75,
   "metadata": {},
   "outputs": [
    {
     "name": "stdout",
     "output_type": "stream",
     "text": [
      "name\n",
      "organ                   .\n",
      "before                  .\n",
      "after                   .\n",
      "treatment               .\n",
      "gender                  .\n",
      "                 ...     \n",
      "gene23441           cntrl\n",
      "gene5536     LOC101731233\n",
      "gene9298     LOC101732939\n",
      "gene14030            agr2\n",
      "gene5537          tmem135\n",
      "Name: GeneName, Length: 23829, dtype: object\n"
     ]
    }
   ],
   "source": [
    "print(fpkm_data['GeneName'])"
   ]
  }
 ],
 "metadata": {
  "kernelspec": {
   "display_name": "Python 3.8.13 ('py38')",
   "language": "python",
   "name": "python3"
  },
  "language_info": {
   "codemirror_mode": {
    "name": "ipython",
    "version": 3
   },
   "file_extension": ".py",
   "mimetype": "text/x-python",
   "name": "python",
   "nbconvert_exporter": "python",
   "pygments_lexer": "ipython3",
   "version": "3.8.13"
  },
  "orig_nbformat": 4,
  "vscode": {
   "interpreter": {
    "hash": "3e5618a7457874320a34e06e97bdb997e623097d255aa9299231f166db5527a9"
   }
  }
 },
 "nbformat": 4,
 "nbformat_minor": 2
}
