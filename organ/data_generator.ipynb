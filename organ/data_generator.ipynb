{
 "cells": [
  {
   "cell_type": "code",
   "execution_count": 1,
   "metadata": {},
   "outputs": [],
   "source": [
    "import numpy as np\n",
    "import pandas as pd"
   ]
  },
  {
   "cell_type": "code",
   "execution_count": 2,
   "metadata": {},
   "outputs": [
    {
     "name": "stderr",
     "output_type": "stream",
     "text": [
      "/var/folders/pt/9f05dd_s4_lfhz62v29wfmtc0000gn/T/ipykernel_76756/1636768533.py:3: DtypeWarning: Columns (1,2,3,4,5,6,7,8,9,10,11,12,13,14,15,16,17,18,19,20,21,22,23,24,25,26,27,28,29,30,31,32,33,34,35,36,37,38,39,40,41,42,43,44,45,46,47,48,49,50,51,52,53,54,55,56,57,58,59,60,61,62,63,64,65,66,67,68,69,70,71,72,73,74,75,76,77,78,79,80,81,82,83,84,85,86,87,88,89,90,91,92,93,94,95,96,97,98,99,100,101,102,103,104,105,106,107,108,109,110,111,112,113,114,115,116,117,118,119,120,121,122,123,124,125,126,127,128,129,130,131,132,133,134,135,136,137,138,139,140,141,142,143,144,145,146,147,148,149,150,151,152,153,154,155,156,157,158,159,160,161,162,163,164,165,166,167,168) have mixed types. Specify dtype option on import or set low_memory=False.\n",
      "  fpkm_data = pd.read_csv(\"data/fpkm_all_anno.xls\", sep='\\t', header=0)\n"
     ]
    }
   ],
   "source": [
    "organs = np.array([\"bra\", \"hea\", \"int\", \"liv\", \"lun\", \"mus\", \"ski\"])\n",
    "\n",
    "fpkm_data = pd.read_csv(\"data/fpkm_all_anno.xls\", sep='\\t', header=0)\n",
    "gene_lists = {}\n",
    "for organ in organs:\n",
    "    file_name = \"data/deg_id/{}_union_deg_list.csv\".format(organ)\n",
    "    gene_lists[organ] = pd.read_csv(file_name, sep=',', header=0)\n",
    "fpkm_data = fpkm_data.set_index(\"name\")"
   ]
  },
  {
   "cell_type": "code",
   "execution_count": 46,
   "metadata": {},
   "outputs": [],
   "source": [
    "import itertools\n",
    "\n",
    "def extract_df(fpkm_data, x, gene_set, filter=False):\n",
    "    sample_name_list = []\n",
    "    for sample_name in fpkm_data.columns:\n",
    "        if (x in sample_name):\n",
    "            sample_name_list.append(sample_name)\n",
    "    if filter:\n",
    "        # print(fpkm_data[sample_name_list].loc[gene_set])\n",
    "        # print(np.min(fpkm_data[sample_name_list].loc[gene_set], axis=1) > 1)\n",
    "        gene_set = gene_set[np.min(fpkm_data[sample_name_list].loc[gene_set], axis=1) > 1]\n",
    "        # gene_set = gene_set[]\n",
    "\n",
    "    sample_name_list.append(\"GeneName\")\n",
    "    return fpkm_data[sample_name_list].loc[gene_set].set_index('GeneName'), gene_set\n",
    "\n",
    "for x, y in itertools.combinations(organs, 2):\n",
    "    # print(gene_lists[x][\"{}_degs_uni\".format(x)])\n",
    "    gene_set = np.union1d(np.array(gene_lists[x][\"{}_degs_uni\".format(x)]), np.array(gene_lists[y][\"{}_degs_uni\".format(y)]))\n",
    "    # build x\n",
    "    # print(extract_df(fpkm_data, x, gene_set))\n",
    "    df_x, gene_set = extract_df(fpkm_data, x, gene_set, filter=True) \n",
    "    df_y, gene_set = extract_df(fpkm_data, y, gene_set)\n",
    "    df_x.T.to_csv(\"data/input/{}_vs_{}-{}.csv\".format(x, y, x), index_label=False, sep=\"\\t\")\n",
    "    df_y.T.to_csv(\"data/input/{}_vs_{}-{}.csv\".format(x, y, y), index_label=False, sep=\"\\t\")\n",
    "    # print(gene_set[:10])\n",
    "    # break\n",
    "    # break"
   ]
  },
  {
   "cell_type": "markdown",
   "metadata": {},
   "source": [
    "processing input with R scripts"
   ]
  },
  {
   "cell_type": "code",
   "execution_count": 74,
   "metadata": {},
   "outputs": [
    {
     "name": "stdout",
     "output_type": "stream",
     "text": [
      "                 Ssec\n",
      "Gene_symbol          \n",
      "cfb          3.353559\n",
      "ifi30        3.194333\n",
      "col1a1       3.063660\n",
      "cdnf         2.899658\n",
      "loxl1        2.763358\n",
      "nid2         2.639407\n",
      "col2a1       2.579529\n",
      "col4a5       2.441493\n",
      "lama2        2.227254\n",
      "col3a1       2.093538\n",
      "spon2        1.956186\n",
      "col4a6       1.934458\n",
      "lama1        1.826038\n",
      "fstl5        1.816522\n",
      "tf           1.747538\n",
      "kitlg        1.707344\n",
      "col4a2       1.678061\n",
      "a2m          1.558518\n",
      "col5a3       1.553398\n",
      "nppc         1.389392\n",
      "pm20d1       1.301172\n",
      "lum          1.280286\n",
      "sparc        1.273916\n",
      "ache         1.264258\n",
      "bdnf         1.244566\n",
      "nog          1.232011\n",
      "chid1        1.217304\n",
      "pdgfrl       1.192033\n",
      "crtac1       1.142969\n",
      "spock3       1.135568\n",
      "clu          1.070318\n",
      "gal.2        1.016454\n",
      "ltbp1        0.990679\n",
      "npb          0.981805\n",
      "olfm3        0.978164\n",
      "prss12       0.948464\n",
      "chga         0.894340\n",
      "ptn          0.884074\n",
      "sfrp1        0.853302\n",
      "lipg         0.778651\n"
     ]
    },
    {
     "ename": "ValueError",
     "evalue": "zero-dimensional arrays cannot be concatenated",
     "output_type": "error",
     "traceback": [
      "\u001b[0;31m---------------------------------------------------------------------------\u001b[0m",
      "\u001b[0;31mValueError\u001b[0m                                Traceback (most recent call last)",
      "Cell \u001b[0;32mIn [74], line 12\u001b[0m\n\u001b[1;32m     10\u001b[0m         col_list\u001b[39m.\u001b[39mappend(sample_name)\n\u001b[1;32m     11\u001b[0m result \u001b[39m=\u001b[39m pd\u001b[39m.\u001b[39mmerge(candidate_gene, fpkm_data, how\u001b[39m=\u001b[39m\u001b[39m\"\u001b[39m\u001b[39mleft\u001b[39m\u001b[39m\"\u001b[39m, left_index\u001b[39m=\u001b[39m\u001b[39mTrue\u001b[39;00m, right_on\u001b[39m=\u001b[39m\u001b[39m\"\u001b[39m\u001b[39mGeneName\u001b[39m\u001b[39m\"\u001b[39m)\u001b[39m.\u001b[39mset_index(\u001b[39m\"\u001b[39m\u001b[39mGeneName\u001b[39m\u001b[39m\"\u001b[39m)\n\u001b[0;32m---> 12\u001b[0m col_list \u001b[39m=\u001b[39m np\u001b[39m.\u001b[39;49mconcatenate((\u001b[39m'\u001b[39;49m\u001b[39mSsec\u001b[39;49m\u001b[39m'\u001b[39;49m, result\u001b[39m.\u001b[39;49mcolumns[\u001b[39m169\u001b[39;49m:], col_list))\n\u001b[1;32m     13\u001b[0m result[col_list]\u001b[39m.\u001b[39mto_excel(\u001b[39m\"\u001b[39m\u001b[39mresult/filtered_genes/\u001b[39m\u001b[39m{}\u001b[39;00m\u001b[39m_x_\u001b[39m\u001b[39m{}\u001b[39;00m\u001b[39m_filtered_genes.xls\u001b[39m\u001b[39m\"\u001b[39m\u001b[39m.\u001b[39mformat(x, y))\n",
      "File \u001b[0;32m<__array_function__ internals>:180\u001b[0m, in \u001b[0;36mconcatenate\u001b[0;34m(*args, **kwargs)\u001b[0m\n",
      "\u001b[0;31mValueError\u001b[0m: zero-dimensional arrays cannot be concatenated"
     ]
    }
   ],
   "source": [
    "for x, y in itertools.combinations(organs, 2):\n",
    "    candidate_gene = pd.read_csv(\"result/{} X {} ranked by sig score\".format(x, y), sep=\"\\t\").set_index(\"Gene_symbol\")\n",
    "    print(candidate_gene)\n",
    "    # candidatcandidate_gene\n",
    "    # print(candidate_gene)\n",
    "    # print(fpkm_data)\n",
    "    col_list = []\n",
    "    for sample_name in fpkm_data.columns:\n",
    "        if (x in sample_name or y in sample_name):\n",
    "            col_list.append(sample_name)\n",
    "    result = pd.merge(candidate_gene, fpkm_data, how=\"left\", left_index=True, right_on=\"GeneName\").set_index(\"GeneName\")\n",
    "    col_list = np.concatenate((['Ssec'], result.columns[169:], col_list))\n",
    "    result[col_list].to_excel(\"result/filtered_genes/{}_x_{}_filtered_genes.xls\".format(x, y))\n"
   ]
  }
 ],
 "metadata": {
  "kernelspec": {
   "display_name": "Python 3.8.13 ('py38')",
   "language": "python",
   "name": "python3"
  },
  "language_info": {
   "codemirror_mode": {
    "name": "ipython",
    "version": 3
   },
   "file_extension": ".py",
   "mimetype": "text/x-python",
   "name": "python",
   "nbconvert_exporter": "python",
   "pygments_lexer": "ipython3",
   "version": "3.8.13"
  },
  "orig_nbformat": 4,
  "vscode": {
   "interpreter": {
    "hash": "3e5618a7457874320a34e06e97bdb997e623097d255aa9299231f166db5527a9"
   }
  }
 },
 "nbformat": 4,
 "nbformat_minor": 2
}
